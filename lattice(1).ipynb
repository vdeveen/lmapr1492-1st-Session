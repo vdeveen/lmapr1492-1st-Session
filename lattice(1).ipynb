{
 "cells": [
  {
   "cell_type": "code",
   "execution_count": 4,
   "metadata": {},
   "outputs": [
    {
     "name": "stdout",
     "output_type": "stream",
     "text": [
      "Vecteurs de base du réseau direct:\n",
      "7.810826 -2.336785 0.000000\n",
      "7.810826 2.336785 0.000000\n",
      "7.111724 0.000000 3.986597\n",
      "\n",
      "Longeur de A: 8.152887\n",
      "Longeur de B: 8.152887\n",
      "Longeur de C: 8.152887\n",
      "Angle alpha: 33.311487\n",
      "Angle beta: 33.311487\n",
      "Angle gamma: 33.311487\n",
      "Vecteurs de base du réseau réciproque:\n",
      "0.402210 -1.344408 -0.717506\n",
      "0.402210 1.344408 -0.717506\n",
      "0.000000 0.000000 1.576077\n",
      "\n",
      "Longeur du vecteur A*: 1.576077\n",
      "Longeur du vecteur B*: 1.576077\n",
      "Longeur du vecteur C*: 1.576077\n",
      "Angle alpha*: 117.080884\n",
      "Angle beta*: 117.080884\n",
      "Angle gamma*: 117.080884\n",
      "Type de maille : rhombohedral\n",
      "\n",
      "Système cristallin : trigonal\n",
      "\n",
      "Groupe ponctuel : -3m\n"
     ]
    }
   ],
   "source": [
    "from pymatgen.symmetry.analyzer import SpacegroupAnalyzer\n",
    "\n",
    "\n",
    "from pymatgen import Structure\n",
    "from pymatgen import symmetry\n",
    "from pymatgen.ext.matproj import MPRester\n",
    "from pymatgen.io.cif import CifWriter\n",
    "from pymatgen.symmetry.analyzer import SpacegroupAnalyzer\n",
    "from pymatgen.core.operations import SymmOp\n",
    "from IPython.display import Image\n",
    "with MPRester(\"izD7mJmnjhUOKyWGtZ\") as m:\n",
    "\n",
    "    # Structure for material id\n",
    "    structure = m.get_structure_by_material_id(\"mp-27869\")\n",
    "    w = CifWriter(structure)\n",
    "    w.write_file('mp-27869.cif')\n",
    "\n",
    "    struct= SpacegroupAnalyzer(structure)\n",
    "    new_s=SpacegroupAnalyzer(structure).get_primitive_standard_structure()\n",
    "\n",
    "    #ReseauDirect\n",
    "    ResD= new_s.lattice\n",
    "\n",
    "    a= ResD.a\n",
    "    b= ResD.b\n",
    "    c= ResD.c\n",
    "    alpha= ResD.alpha\n",
    "    beta= ResD.beta\n",
    "    gamma= ResD.gamma\n",
    "\n",
    "    #ReseauReciproque\n",
    "    rec= ResD.reciprocal_lattice\n",
    "    arec= rec.a\n",
    "    brec= rec.b\n",
    "    crec= rec.c\n",
    "    alpharec= rec.alpha\n",
    "    betarec= rec.beta\n",
    "    gammarec= rec.gamma\n",
    "\n",
    "    #Type de maille, cristal, group\n",
    "    maille= struct.get_lattice_type()\n",
    "    cristal= struct.get_crystal_system()\n",
    "    GrouP= struct.get_point_group_symbol()\n",
    "\n",
    "    print(\"Vecteurs de base du réseau direct:\")\n",
    "    print(ResD)\n",
    "    print(\"\")\n",
    "    print(\"Longeur de A: %f\" %(a))\n",
    "    print(\"Longeur de B: %f\" %(b))\n",
    "    print(\"Longeur de C: %f\" %(c))\n",
    "\n",
    "    print(\"Angle alpha: %f\" %(alpha))\n",
    "    print(\"Angle beta: %f\" %(beta))\n",
    "    print(\"Angle gamma: %f\" %(gamma))\n",
    "    print(\"Vecteurs de base du réseau réciproque:\")\n",
    "    print(rec)\n",
    "    print(\"\")\n",
    "    print(\"Longeur du vecteur A*: %f\" %(arec))\n",
    "    print(\"Longeur du vecteur B*: %f\" %(brec))\n",
    "    print(\"Longeur du vecteur C*: %f\" %(crec))\n",
    "    print(\"Angle alpha*: %f\" %(alpharec))\n",
    "    print(\"Angle beta*: %f\" %(betarec))\n",
    "    print(\"Angle gamma*: %f\" %(gammarec))\n",
    "    print(\"Type de maille : \" + maille)\n",
    "    print(\"\")\n",
    "    print(\"Système cristallin : \" + cristal)\n",
    "    print(\"\")\n",
    "    print(\"Groupe ponctuel : \" + GrouP)"
   ]
  },
  {
   "cell_type": "code",
   "execution_count": null,
   "metadata": {},
   "outputs": [],
   "source": []
  },
  {
   "cell_type": "code",
   "execution_count": null,
   "metadata": {},
   "outputs": [],
   "source": []
  },
  {
   "cell_type": "code",
   "execution_count": null,
   "metadata": {},
   "outputs": [],
   "source": []
  },
  {
   "cell_type": "code",
   "execution_count": null,
   "metadata": {},
   "outputs": [],
   "source": []
  },
  {
   "cell_type": "code",
   "execution_count": null,
   "metadata": {},
   "outputs": [],
   "source": []
  },
  {
   "cell_type": "code",
   "execution_count": null,
   "metadata": {},
   "outputs": [],
   "source": []
  }
 ],
 "metadata": {
  "kernelspec": {
   "display_name": "Python 3",
   "language": "python",
   "name": "python3"
  },
  "language_info": {
   "codemirror_mode": {
    "name": "ipython",
    "version": 3
   },
   "file_extension": ".py",
   "mimetype": "text/x-python",
   "name": "python",
   "nbconvert_exporter": "python",
   "pygments_lexer": "ipython3",
   "version": "3.6.8"
  }
 },
 "nbformat": 4,
 "nbformat_minor": 2
}
