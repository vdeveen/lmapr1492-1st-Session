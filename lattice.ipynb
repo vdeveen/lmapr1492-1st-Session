{
 "cells": [
  {
   "cell_type": "code",
   "execution_count": 1,
   "metadata": {},
   "outputs": [
    {
     "ename": "NameError",
     "evalue": "name 'structure' is not defined",
     "output_type": "error",
     "traceback": [
      "\u001b[0;31m---------------------------------------------------------------------------\u001b[0m",
      "\u001b[0;31mNameError\u001b[0m                                 Traceback (most recent call last)",
      "\u001b[0;32m<ipython-input-1-a145860fb609>\u001b[0m in \u001b[0;36m<module>\u001b[0;34m\u001b[0m\n\u001b[1;32m      1\u001b[0m \u001b[0;32mfrom\u001b[0m \u001b[0mpymatgen\u001b[0m\u001b[0;34m.\u001b[0m\u001b[0msymmetry\u001b[0m\u001b[0;34m.\u001b[0m\u001b[0manalyzer\u001b[0m \u001b[0;32mimport\u001b[0m \u001b[0mSpacegroupAnalyzer\u001b[0m\u001b[0;34m\u001b[0m\u001b[0;34m\u001b[0m\u001b[0m\n\u001b[1;32m      2\u001b[0m \u001b[0;34m\u001b[0m\u001b[0m\n\u001b[0;32m----> 3\u001b[0;31m \u001b[0mstruct\u001b[0m\u001b[0;34m=\u001b[0m \u001b[0mSpacegroupAnalyzer\u001b[0m\u001b[0;34m(\u001b[0m\u001b[0mstructure\u001b[0m\u001b[0;34m)\u001b[0m\u001b[0;34m\u001b[0m\u001b[0;34m\u001b[0m\u001b[0m\n\u001b[0m\u001b[1;32m      4\u001b[0m \u001b[0mnew_s\u001b[0m\u001b[0;34m=\u001b[0m\u001b[0mSpacegroupAnalyzer\u001b[0m\u001b[0;34m(\u001b[0m\u001b[0mstructure\u001b[0m\u001b[0;34m)\u001b[0m\u001b[0;34m.\u001b[0m\u001b[0mget_primitive_standard_structure\u001b[0m\u001b[0;34m(\u001b[0m\u001b[0;34m)\u001b[0m\u001b[0;34m\u001b[0m\u001b[0;34m\u001b[0m\u001b[0m\n\u001b[1;32m      5\u001b[0m \u001b[0;34m\u001b[0m\u001b[0m\n",
      "\u001b[0;31mNameError\u001b[0m: name 'structure' is not defined"
     ]
    }
   ],
   "source": [
    "from pymatgen.symmetry.analyzer import SpacegroupAnalyzer\n",
    "\n",
    "struct= SpacegroupAnalyzer(structure)\n",
    "new_s=SpacegroupAnalyzer(structure).get_primitive_standard_structure()\n",
    "\n",
    "#ReseauDirect\n",
    "ResD= new_s.lattice\n",
    "\n",
    "a= ResD.a\n",
    "b= ResD.b\n",
    "c= ResD.c\n",
    "alpha= ResD.alpha\n",
    "beta= ResD.beta\n",
    "gamma= ResD.gamma\n",
    "\n",
    "#ReseauReciproque\n",
    "rec= ResD.reciprocal_lattice\n",
    "arec= rec.a\n",
    "brec= rec.b\n",
    "crec= rec.c\n",
    "alpharec= rec.alpha\n",
    "betarec= rec.beta\n",
    "gammarec= rec.gamma\n",
    "\n",
    "#Type de maille, cristal, group\n",
    "maille= struct.get_lattice_type()\n",
    "cristal= struct.get_crystal_system()\n",
    "GrouP= struct.get_point_group_symbol()\n",
    "\n",
    "print(\"Vecteurs de base du réseau direct:\")\n",
    "print(ResD)\n",
    "print(\"\")\n",
    "print(\"Longeur de A: %f\" %(a))\n",
    "print(\"Longeur de B: %f\" %(b))\n",
    "print(\"Longeur de C: %f\" %(c))\n",
    "\n",
    "print(\"Angle alpha: %f\" %(alpha))\n",
    "print(\"Angle beta: %f\" %(beta))\n",
    "print(\"Angle gamma: %f\" %(gamma))\n",
    "print(\"Vecteurs de base du réseau réciproque:\")\n",
    "print(rec)\n",
    "print(\"\")\n",
    "print(\"Longeur du vecteur A*: %f\" %(arec))\n",
    "print(\"Longeur du vecteur B*: %f\" %(brec))\n",
    "print(\"Longeur du vecteur C*: %f\" %(crec))\n",
    "print(\"Angle alpha*: %f\" %(alpharec))\n",
    "print(\"Angle beta*: %f\" %(betarec))\n",
    "print(\"Angle gamma*: %f\" %(gammarec))\n",
    "print(\"Type de maille : \" + maille)\n",
    "print(\"\")\n",
    "print(\"Système cristallin : \" + cristal)\n",
    "print(\"\")\n",
    "print(\"Groupe ponctuel : \" + GP)"
   ]
  },
  {
   "cell_type": "code",
   "execution_count": null,
   "metadata": {},
   "outputs": [],
   "source": []
  }
 ],
 "metadata": {
  "kernelspec": {
   "display_name": "Python 3",
   "language": "python",
   "name": "python3"
  },
  "language_info": {
   "codemirror_mode": {
    "name": "ipython",
    "version": 3
   },
   "file_extension": ".py",
   "mimetype": "text/x-python",
   "name": "python",
   "nbconvert_exporter": "python",
   "pygments_lexer": "ipython3",
   "version": "3.6.8"
  }
 },
 "nbformat": 4,
 "nbformat_minor": 2
}
