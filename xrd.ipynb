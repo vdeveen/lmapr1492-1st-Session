{
 "cells": [
  {
   "cell_type": "code",
   "execution_count": 8,
   "metadata": {},
   "outputs": [
    {
     "name": "stdout",
     "output_type": "stream",
     "text": [
      "Graphe correspondant du pattern:\n",
      "Les 3 premiers pics sont à theta=\n",
      "[26.90731396 23.28992938 38.52616502]\n",
      "\n",
      "leurs indices hkl associés:\n",
      "[{'hkl': (2, 1, 1), 'multiplicity': 6}\n",
      " {'hkl': (1, 1, 0), 'multiplicity': 6}\n",
      " {'hkl': (1, 0, -1), 'multiplicity': 6}]\n",
      "\n",
      "les 3 premiers pics par angle à apparaître:\n",
      "[11.50195312 22.29996938 23.12187615]\n",
      "\n",
      "leurs indices hkl associés:\n",
      "[[{'hkl': (1, 1, 1), 'multiplicity': 2}]\n",
      " [{'hkl': (1, 0, 0), 'multiplicity': 6}]\n",
      " [{'hkl': (2, 2, 2), 'multiplicity': 2}]]\n"
     ]
    },
    {
     "data": {
      "image/png": "[encoded data removed]",
      "text/plain": [
       "<Figure size 432x288 with 1 Axes>"
      ]
     },
     "metadata": {
      "needs_background": "light"
     },
     "output_type": "display_data"
    }
   ],
   "source": [
    "from pymatgen import Structure\n",
    "from matplotlib import pyplot as plt\n",
    "from pymatgen import symmetry\n",
    "from pymatgen.ext.matproj import MPRester\n",
    "from pymatgen.io.cif import CifWriter\n",
    "from pymatgen.core.operations import SymmOp\n",
    "from pymatgen.analysis.diffraction import xrd\n",
    "import numpy as np\n",
    "with MPRester(\"izD7mJmnjhUOKyWGtZ\") as m:\n",
    "    structure = m.get_structure_by_material_id(\"mp-27869\")\n",
    "    w = CifWriter(structure)\n",
    "    w.write_file('mp-27869.cif')\n",
    "    cal =xrd.XRDCalculator()\n",
    "    patter =cal.get_pattern(structure,two_theta_range=(0, 90))\n",
    "    \n",
    "    print(\"Graphe correspondant du pattern:\")\n",
    "    plt.stem(patter.x,patter.y,use_line_collection=True)\n",
    "    sorty =np.sort(patter.y)\n",
    "    \n",
    "    n =np.size(patter.x)\n",
    "    sorteur =np.zeros(n)\n",
    "    hkls =patter.hkls.copy()\n",
    "    \n",
    "    for i in range(0,n):\n",
    "        index =np.where(patter.y == sorty[i])\n",
    "        sorteur[i] =patter.x[index]\n",
    "        hkls[i] =patter.hkls[index[0][0]][0]\n",
    "        \n",
    "    print(\"Les 3 premiers pics sont à theta=\")\n",
    "    pics =np.array([sorteur[n-1] ,sorteur[n-2] ,sorteur[n-3] ])\n",
    "    print(pics)\n",
    "    print(\"\")\n",
    "    \n",
    "    print(\"leurs indices hkl associés:\")\n",
    "    picshkl =np.array([hkls[n-1] ,hkls[n-2] ,hkls[n-3] ])\n",
    "    print(picshkl)\n",
    "    print(\"\")\n",
    "  \n",
    "    print(\"les 3 premiers pics par angle à apparaître:\")\n",
    "    picsangl =np.array([patter.x[0] ,patter.x[1] ,patter.x[2] ])\n",
    "    print(picsangl)\n",
    "    print(\"\")\n",
    "    \n",
    "    print(\"leurs indices hkl associés:\")\n",
    "    picshkl2 =np.array([patter.hkls[0], patter.hkls[1] ,patter.hkls[2] ])\n",
    "    print(picshkl2)\n",
    "    \n",
    "    "
   ]
  },
  {
   "cell_type": "code",
   "execution_count": null,
   "metadata": {},
   "outputs": [],
   "source": []
  },
  {
   "cell_type": "code",
   "execution_count": null,
   "metadata": {},
   "outputs": [],
   "source": []
  },
  {
   "cell_type": "code",
   "execution_count": null,
   "metadata": {},
   "outputs": [],
   "source": []
  }
 ],
 "metadata": {
  "kernelspec": {
   "display_name": "Python 3",
   "language": "python",
   "name": "python3"
  },
  "language_info": {
   "codemirror_mode": {
    "name": "ipython",
    "version": 3
   },
   "file_extension": ".py",
   "mimetype": "text/x-python",
   "name": "python",
   "nbconvert_exporter": "python",
   "pygments_lexer": "ipython3",
   "version": "3.6.8"
  }
 },
 "nbformat": 4,
 "nbformat_minor": 2
}
